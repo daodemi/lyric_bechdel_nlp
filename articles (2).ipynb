{
 "cells": [
  {
   "cell_type": "code",
   "execution_count": 6,
   "metadata": {},
   "outputs": [],
   "source": [
    "from os import listdir\n",
    "from os.path import isfile, join\n",
    "\n",
    "from bs4 import BeautifulSoup\n",
    "import lxml\n",
    "\n",
    "import pandas as pd\n",
    "\n",
    "import warnings\n",
    "warnings.filterwarnings(\"ignore\")\n",
    "\n",
    "import requests\n",
    "\n",
    "import nltk"
   ]
  },
  {
   "cell_type": "code",
   "execution_count": 54,
   "metadata": {},
   "outputs": [],
   "source": [
    "import string"
   ]
  },
  {
   "cell_type": "code",
   "execution_count": 39,
   "metadata": {},
   "outputs": [
    {
     "name": "stderr",
     "output_type": "stream",
     "text": [
      "[nltk_data] Downloading package words to /home/ubuntu/nltk_data...\n",
      "[nltk_data]   Unzipping corpora/words.zip.\n"
     ]
    },
    {
     "data": {
      "text/plain": [
       "True"
      ]
     },
     "execution_count": 39,
     "metadata": {},
     "output_type": "execute_result"
    }
   ],
   "source": [
    "nltk.download('words')"
   ]
  },
  {
   "cell_type": "code",
   "execution_count": 13,
   "metadata": {},
   "outputs": [],
   "source": [
    "article_files = [f for f in listdir('/home/ubuntu/newyorktimes_nlp/data/articles') if isfile(join('/home/ubuntu/newyorktimes_nlp/data/articles', f))]"
   ]
  },
  {
   "cell_type": "code",
   "execution_count": 23,
   "metadata": {},
   "outputs": [],
   "source": [
    "articles_df = pd.DataFrame(columns=['articleID','byline','webURL','newDesk'])\n",
    "for file in article_files:\n",
    "    file = file.strip(\"'\")\n",
    "    df = pd.read_csv('/home/ubuntu/newyorktimes_nlp/data/articles/{}'.format(file),error_bad_lines=False, encoding = \"ISO-8859-1\")\n",
    "    df = df[['articleID','byline','webURL','newDesk']]\n",
    "    articles_df = articles_df.append(df)"
   ]
  },
  {
   "cell_type": "code",
   "execution_count": 27,
   "metadata": {},
   "outputs": [
    {
     "data": {
      "text/plain": [
       "(4462, 4)"
      ]
     },
     "execution_count": 27,
     "metadata": {},
     "output_type": "execute_result"
    }
   ],
   "source": [
    "articles_df = articles_df[articles_df['newDesk'].isin(['Arts&Leisure','BookReview','Business','Climate','Culture','Dining','Foreign','Games','Learning','National','Podcasts','RealEstate','Science','Sports','Travel','Washington'])]\n",
    "articles_df.shape"
   ]
  },
  {
   "cell_type": "code",
   "execution_count": 28,
   "metadata": {},
   "outputs": [],
   "source": [
    "article_urls = list(articles_df['webURL'])"
   ]
  },
  {
   "cell_type": "code",
   "execution_count": 84,
   "metadata": {},
   "outputs": [],
   "source": [
    "def get_article_text(url):\n",
    "    response = requests.get(url)   \n",
    "    page = response.text\n",
    "    soup = BeautifulSoup(page, 'html.parser')\n",
    "    text = ''\n",
    "    for node in soup.findAll(class_=\"css-1ygdjhk evys1bk0\"):\n",
    "        article = \"\".join(node.findAll(text=True))\n",
    "        text = text + article\n",
    "    return text"
   ]
  },
  {
   "cell_type": "code",
   "execution_count": 87,
   "metadata": {},
   "outputs": [],
   "source": [
    "for url in article_urls:\n",
    "    text = get_article_text(url)\n",
    "    articles_df.loc[articles_df.webURL == url, 'articleText'] = text"
   ]
  },
  {
   "cell_type": "code",
   "execution_count": 89,
   "metadata": {},
   "outputs": [],
   "source": [
    "articles_df.to_csv(\"articles_df.csv\")"
   ]
  },
  {
   "cell_type": "code",
   "execution_count": 60,
   "metadata": {},
   "outputs": [],
   "source": [
    "df = pd.read_pickle(\"articles.pkl\")"
   ]
  },
  {
   "cell_type": "code",
   "execution_count": 32,
   "metadata": {},
   "outputs": [
    {
     "data": {
      "text/html": [
       "<div>\n",
       "<style scoped>\n",
       "    .dataframe tbody tr th:only-of-type {\n",
       "        vertical-align: middle;\n",
       "    }\n",
       "\n",
       "    .dataframe tbody tr th {\n",
       "        vertical-align: top;\n",
       "    }\n",
       "\n",
       "    .dataframe thead th {\n",
       "        text-align: right;\n",
       "    }\n",
       "</style>\n",
       "<table border=\"1\" class=\"dataframe\">\n",
       "  <thead>\n",
       "    <tr style=\"text-align: right;\">\n",
       "      <th></th>\n",
       "      <th>Unnamed: 0</th>\n",
       "      <th>articleID</th>\n",
       "      <th>byline</th>\n",
       "      <th>webURL</th>\n",
       "      <th>newDesk</th>\n",
       "      <th>articleText</th>\n",
       "    </tr>\n",
       "  </thead>\n",
       "  <tbody>\n",
       "    <tr>\n",
       "      <th>0</th>\n",
       "      <td>0</td>\n",
       "      <td>58691a5795d0e039260788b9</td>\n",
       "      <td>By JENNIFER STEINHAUER</td>\n",
       "      <td>https://www.nytimes.com/2017/01/01/us/politics...</td>\n",
       "      <td>National</td>\n",
       "      <td>washington — the most powerful and ambitious r...</td>\n",
       "    </tr>\n",
       "    <tr>\n",
       "      <th>1</th>\n",
       "      <td>1</td>\n",
       "      <td>586967bf95d0e03926078915</td>\n",
       "      <td>By MARK LANDLER</td>\n",
       "      <td>https://www.nytimes.com/2017/01/01/world/asia/...</td>\n",
       "      <td>Foreign</td>\n",
       "      <td>washington — president obama’s advisers wrestl...</td>\n",
       "    </tr>\n",
       "    <tr>\n",
       "      <th>2</th>\n",
       "      <td>2</td>\n",
       "      <td>58698a1095d0e0392607894a</td>\n",
       "      <td>By CAITLIN LOVINGER</td>\n",
       "      <td>https://www.nytimes.com/2017/01/01/crosswords/...</td>\n",
       "      <td>Games</td>\n",
       "      <td>monday puzzle — and so the holiday season has ...</td>\n",
       "    </tr>\n",
       "    <tr>\n",
       "      <th>3</th>\n",
       "      <td>5</td>\n",
       "      <td>5869afd495d0e0392607896c</td>\n",
       "      <td>By MICHAEL POWELL</td>\n",
       "      <td>https://www.nytimes.com/2017/01/01/sports/bask...</td>\n",
       "      <td>Sports</td>\n",
       "      <td>more than  years ago an american indian boy cl...</td>\n",
       "    </tr>\n",
       "    <tr>\n",
       "      <th>4</th>\n",
       "      <td>6</td>\n",
       "      <td>5869d08f95d0e03926078980</td>\n",
       "      <td>By MIKE HALE</td>\n",
       "      <td>https://www.nytimes.com/2017/01/01/arts/televi...</td>\n",
       "      <td>Culture</td>\n",
       "      <td>sunday brought us the first helenandnoah episo...</td>\n",
       "    </tr>\n",
       "  </tbody>\n",
       "</table>\n",
       "</div>"
      ],
      "text/plain": [
       "   Unnamed: 0                 articleID                  byline  \\\n",
       "0           0  58691a5795d0e039260788b9  By JENNIFER STEINHAUER   \n",
       "1           1  586967bf95d0e03926078915         By MARK LANDLER   \n",
       "2           2  58698a1095d0e0392607894a     By CAITLIN LOVINGER   \n",
       "3           5  5869afd495d0e0392607896c       By MICHAEL POWELL   \n",
       "4           6  5869d08f95d0e03926078980            By MIKE HALE   \n",
       "\n",
       "                                              webURL   newDesk  \\\n",
       "0  https://www.nytimes.com/2017/01/01/us/politics...  National   \n",
       "1  https://www.nytimes.com/2017/01/01/world/asia/...   Foreign   \n",
       "2  https://www.nytimes.com/2017/01/01/crosswords/...     Games   \n",
       "3  https://www.nytimes.com/2017/01/01/sports/bask...    Sports   \n",
       "4  https://www.nytimes.com/2017/01/01/arts/televi...   Culture   \n",
       "\n",
       "                                         articleText  \n",
       "0  washington — the most powerful and ambitious r...  \n",
       "1  washington — president obama’s advisers wrestl...  \n",
       "2  monday puzzle — and so the holiday season has ...  \n",
       "3  more than  years ago an american indian boy cl...  \n",
       "4  sunday brought us the first helenandnoah episo...  "
      ]
     },
     "execution_count": 32,
     "metadata": {},
     "output_type": "execute_result"
    }
   ],
   "source": [
    "df.head()"
   ]
  },
  {
   "cell_type": "code",
   "execution_count": 40,
   "metadata": {},
   "outputs": [],
   "source": [
    "words = set(nltk.corpus.words.words())\n",
    "def get_english(text):\n",
    "    english = \" \".join(w for w in nltk.wordpunct_tokenize(text) if w.lower() in words or not w.isalpha())\n",
    "    return english"
   ]
  },
  {
   "cell_type": "code",
   "execution_count": 1,
   "metadata": {},
   "outputs": [],
   "source": [
    "import re\n",
    "import string\n",
    "\n",
    "def clean_text(text):\n",
    "#     try:\n",
    "    text = str(text)\n",
    "    clean_text = re.sub(r'[^\\w\\s]','',text) # remove punctiation\n",
    "    clean_text = clean_text.lower() \n",
    "    clean_text = get_english(clean_text)\n",
    "    clean_text = ''.join([i for i in clean_text if not i.isdigit()])\n",
    "    return clean_text\n",
    "#     except:\n",
    "#         return \" \""
   ]
  },
  {
   "cell_type": "code",
   "execution_count": 67,
   "metadata": {},
   "outputs": [],
   "source": [
    "df['articleText'] = df['articleText'].apply(lambda x: clean_text(x))"
   ]
  },
  {
   "cell_type": "code",
   "execution_count": 68,
   "metadata": {},
   "outputs": [
    {
     "data": {
      "text/plain": [
       "0    the most powerful and ambitious congress in wi...\n",
       "1    president with an intractable problem in the s...\n",
       "2    puzzle and so the holiday season officially en...\n",
       "3    more than ago an boy a mountain and across the...\n",
       "4    brought us the first episode of the affair thi...\n",
       "Name: articleText, dtype: object"
      ]
     },
     "execution_count": 68,
     "metadata": {},
     "output_type": "execute_result"
    }
   ],
   "source": [
    "df.articleText.head()"
   ]
  },
  {
   "cell_type": "code",
   "execution_count": 69,
   "metadata": {},
   "outputs": [],
   "source": [
    "import pickle\n",
    "\n",
    "with open('articles.pkl', 'wb') as output_file:\n",
    "    pickle.dump(df, output_file)"
   ]
  },
  {
   "cell_type": "code",
   "execution_count": null,
   "metadata": {},
   "outputs": [],
   "source": []
  }
 ],
 "metadata": {
  "kernelspec": {
   "display_name": "Python 3",
   "language": "python",
   "name": "python3"
  },
  "language_info": {
   "codemirror_mode": {
    "name": "ipython",
    "version": 3
   },
   "file_extension": ".py",
   "mimetype": "text/x-python",
   "name": "python",
   "nbconvert_exporter": "python",
   "pygments_lexer": "ipython3",
   "version": "3.6.7"
  }
 },
 "nbformat": 4,
 "nbformat_minor": 2
}
