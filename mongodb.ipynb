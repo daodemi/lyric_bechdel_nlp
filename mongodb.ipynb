{
 "cells": [
  {
   "cell_type": "code",
   "execution_count": 1,
   "metadata": {},
   "outputs": [],
   "source": [
    "from pymongo import MongoClient\n",
    "import pandas as pd\n",
    "client = MongoClient()"
   ]
  },
  {
   "cell_type": "code",
   "execution_count": 2,
   "metadata": {},
   "outputs": [],
   "source": [
    "# create new database\n",
    "db = client.NYT"
   ]
  },
  {
   "cell_type": "code",
   "execution_count": 3,
   "metadata": {},
   "outputs": [],
   "source": [
    "# create two collections in data base\n",
    "comments = db.create_collection(\"comments\")\n",
    "articles = db.create_collection(\"articles\")"
   ]
  },
  {
   "cell_type": "code",
   "execution_count": 8,
   "metadata": {},
   "outputs": [],
   "source": [
    "# add documents to each collection\n",
    "comments_df = pd.read_pickle(\"comments.pkl\")\n",
    "comments_df.to_csv('comments.csv')"
   ]
  },
  {
   "cell_type": "code",
   "execution_count": 13,
   "metadata": {},
   "outputs": [
    {
     "name": "stdout",
     "output_type": "stream",
     "text": [
      "2019-03-01T04:09:57.071+0000\tconnected to: localhost\n",
      "2019-03-01T04:10:00.069+0000\t[........................] NYT.comments\t50.0MB/1.31GB (3.7%)\n",
      "2019-03-01T04:10:03.069+0000\t[#.......................] NYT.comments\t100MB/1.31GB (7.5%)\n",
      "2019-03-01T04:10:06.069+0000\t[##......................] NYT.comments\t143MB/1.31GB (10.6%)\n",
      "2019-03-01T04:10:09.069+0000\t[###.....................] NYT.comments\t194MB/1.31GB (14.5%)\n",
      "2019-03-01T04:10:12.069+0000\t[####....................] NYT.comments\t246MB/1.31GB (18.3%)\n",
      "2019-03-01T04:10:15.069+0000\t[#####...................] NYT.comments\t295MB/1.31GB (22.0%)\n",
      "2019-03-01T04:10:18.070+0000\t[######..................] NYT.comments\t340MB/1.31GB (25.4%)\n",
      "2019-03-01T04:10:21.069+0000\t[######..................] NYT.comments\t387MB/1.31GB (28.8%)\n",
      "2019-03-01T04:10:24.069+0000\t[#######.................] NYT.comments\t435MB/1.31GB (32.4%)\n",
      "2019-03-01T04:10:27.069+0000\t[########................] NYT.comments\t480MB/1.31GB (35.8%)\n",
      "2019-03-01T04:10:30.069+0000\t[#########...............] NYT.comments\t528MB/1.31GB (39.4%)\n",
      "2019-03-01T04:10:33.070+0000\t[##########..............] NYT.comments\t576MB/1.31GB (42.9%)\n",
      "2019-03-01T04:10:36.071+0000\t[###########.............] NYT.comments\t622MB/1.31GB (46.4%)\n",
      "2019-03-01T04:10:39.070+0000\t[###########.............] NYT.comments\t670MB/1.31GB (50.0%)\n",
      "2019-03-01T04:10:42.069+0000\t[############............] NYT.comments\t721MB/1.31GB (53.8%)\n",
      "2019-03-01T04:10:45.069+0000\t[#############...........] NYT.comments\t767MB/1.31GB (57.2%)\n",
      "2019-03-01T04:10:48.069+0000\t[##############..........] NYT.comments\t814MB/1.31GB (60.6%)\n",
      "2019-03-01T04:10:51.069+0000\t[###############.........] NYT.comments\t863MB/1.31GB (64.3%)\n",
      "2019-03-01T04:10:54.069+0000\t[################........] NYT.comments\t907MB/1.31GB (67.6%)\n",
      "2019-03-01T04:10:57.070+0000\t[#################.......] NYT.comments\t951MB/1.31GB (70.9%)\n",
      "2019-03-01T04:10:57.758+0000\t[#################.......] NYT.comments\t959MB/1.31GB (71.5%)\n",
      "2019-03-01T04:10:57.758+0000\tFailed: lost connection to server\n",
      "2019-03-01T04:10:57.758+0000\timported 2116000 documents\n"
     ]
    }
   ],
   "source": [
    "! mongoimport --db NYT --collection comments --type csv --headerline --file /home/ubuntu/newyorktimes_nlp/comments.csv"
   ]
  }
 ],
 "metadata": {
  "kernelspec": {
   "display_name": "Python 3",
   "language": "python",
   "name": "python3"
  },
  "language_info": {
   "codemirror_mode": {
    "name": "ipython",
    "version": 3
   },
   "file_extension": ".py",
   "mimetype": "text/x-python",
   "name": "python",
   "nbconvert_exporter": "python",
   "pygments_lexer": "ipython3",
   "version": "3.6.7"
  }
 },
 "nbformat": 4,
 "nbformat_minor": 2
}
