{
 "cells": [
  {
   "cell_type": "code",
   "execution_count": 214,
   "metadata": {},
   "outputs": [],
   "source": [
    "from os import listdir\n",
    "from os.path import isfile, join\n",
    "import vaderSentiment\n",
    "from collections import OrderedDict\n",
    "import pandas as pd\n",
    "import numpy as np\n",
    "import pickle\n",
    "import seaborn as sns\n",
    "from matplotlib import pyplot\n",
    "from sklearn.decomposition import NMF\n",
    "from sklearn.decomposition import TruncatedSVD\n",
    "import re\n",
    "\n",
    "import warnings\n",
    "warnings.filterwarnings(\"ignore\")\n",
    "\n",
    "from vaderSentiment.vaderSentiment import SentimentIntensityAnalyzer\n",
    "\n",
    "from nltk.corpus import stopwords\n",
    "import nltk\n",
    "\n",
    "from gensim import corpora, models, similarities, matutils\n",
    "\n",
    "# sklearn\n",
    "from sklearn import datasets\n",
    "from sklearn.feature_extraction.text import CountVectorizer"
   ]
  },
  {
   "cell_type": "markdown",
   "metadata": {},
   "source": [
    "## Creating the dataframes"
   ]
  },
  {
   "cell_type": "code",
   "execution_count": null,
   "metadata": {},
   "outputs": [],
   "source": [
    "comment_files = [f for f in listdir('/home/ubuntu/newyorktimes_nlp/data/comments') if isfile(join('/home/ubuntu/newyorktimes_nlp/data/comments', f))]\n",
    "article_files = [f for f in listdir('/home/ubuntu/newyorktimes_nlp/data/articles') if isfile(join('/home/ubuntu/newyorktimes_nlp/data/articles', f))]"
   ]
  },
  {
   "cell_type": "code",
   "execution_count": null,
   "metadata": {},
   "outputs": [],
   "source": [
    "# create data frame for comments\n",
    "comment_df = pd.DataFrame(columns=['commentBody','newDesk','articleID'])\n",
    "for file in comment_files:\n",
    "    file = file.strip(\"'\")\n",
    "    df = pd.read_csv('/home/ubuntu/newyorktimes_nlp/data/comments/{}'.format(file),error_bad_lines=False, encoding = \"ISO-8859-1\")\n",
    "    df = df[['commentBody','newDesk','articleID']]\n",
    "    comment_df = comment_df.append(df)"
   ]
  },
  {
   "cell_type": "code",
   "execution_count": null,
   "metadata": {},
   "outputs": [],
   "source": [
    "comment_df['commentBody'] = comment_df['commentBody'].astype(str)"
   ]
  },
  {
   "cell_type": "code",
   "execution_count": null,
   "metadata": {},
   "outputs": [],
   "source": [
    "# filter for topics that had 200+ articles\n",
    "comment_df = comment_df[comment_df['newDesk'].isin(['Arts&Leisure','BookReview','Business','Climate','Culture','Dining','Foreign','Games','Learning','National','Podcasts','RealEstate','Science','Sports','Travel','Washington'])]"
   ]
  },
  {
   "cell_type": "code",
   "execution_count": null,
   "metadata": {},
   "outputs": [],
   "source": [
    "comment_df.shape"
   ]
  },
  {
   "cell_type": "code",
   "execution_count": 132,
   "metadata": {},
   "outputs": [],
   "source": [
    "comment_df = pd.read_pickle(\"./comments.pkl\")"
   ]
  },
  {
   "cell_type": "code",
   "execution_count": null,
   "metadata": {},
   "outputs": [],
   "source": [
    "def get_compound(x):\n",
    "    \"\"\"\n",
    "    Input a string of text and returns the vaderSentiment compound score\n",
    "    \"\"\"\n",
    "    try:\n",
    "        return analyser.polarity_scores(x)['compound']\n",
    "    except:\n",
    "        return 0"
   ]
  },
  {
   "cell_type": "code",
   "execution_count": null,
   "metadata": {},
   "outputs": [],
   "source": [
    "# append compound score to the comments data frame\n",
    "analyser = SentimentIntensityAnalyzer()\n",
    "comment_df['compound'] = comment_df['commentBody'].apply(lambda x: get_compound(x))\n",
    "with open('comments.pkl', 'wb') as output_file:\n",
    "    pickle.dump(comment_df, output_file)"
   ]
  },
  {
   "cell_type": "code",
   "execution_count": null,
   "metadata": {},
   "outputs": [],
   "source": [
    "articles = list(comment_df.articleID.unique())"
   ]
  },
  {
   "cell_type": "code",
   "execution_count": null,
   "metadata": {},
   "outputs": [],
   "source": [
    "# create a new data frame that stores of the varience of each article\n",
    "\n",
    "variance_df = pd.DataFrame(columns=['articleID','sentimentVariance'])\n",
    "\n",
    "for article in articles: \n",
    "    sentiment = list(comment_df.loc[comment_df['articleID'] == article]['compound'])\n",
    "    variance = np.var(sentiment)\n",
    "    variance_df = variance_df.append({'articleID':article, 'sentimentVariance':variance},ignore_index=True)"
   ]
  },
  {
   "cell_type": "code",
   "execution_count": null,
   "metadata": {},
   "outputs": [],
   "source": [
    "with open('sentiment.pkl', 'wb') as output_file:\n",
    "    pickle.dump(variance_df, output_file)"
   ]
  },
  {
   "cell_type": "code",
   "execution_count": null,
   "metadata": {},
   "outputs": [],
   "source": [
    "variance_df.head()"
   ]
  },
  {
   "cell_type": "code",
   "execution_count": null,
   "metadata": {},
   "outputs": [],
   "source": [
    "variance_df.sentimentVariance.mean()"
   ]
  },
  {
   "cell_type": "code",
   "execution_count": 215,
   "metadata": {},
   "outputs": [],
   "source": [
    "variance_df = pd.read_pickle(\"./sentiment.pkl\")\n",
    "variance_df = variance_df.dropna(axis=0)"
   ]
  },
  {
   "cell_type": "markdown",
   "metadata": {},
   "source": [
    "## Plotting variance"
   ]
  },
  {
   "cell_type": "code",
   "execution_count": 238,
   "metadata": {},
   "outputs": [
    {
     "data": {
      "image/png": "[encoded data removed]",
      "text/plain": [
       "<Figure size 1152x576 with 1 Axes>"
      ]
     },
     "metadata": {},
     "output_type": "display_data"
    }
   ],
   "source": [
    "size = (16, 8)\n",
    "fig, ax = pyplot.subplots(figsize=size)\n",
    "sns.boxplot(x=variance_df.sentimentVariance,color='#FFC200').set_title('Variance of Comment Sentiment per Article')\n",
    "ax.set_xlabel('Sentiment Variance',fontsize=20)\n",
    "sns.set(font_scale = 2)\n",
    "sns.set_style(\"dark\")\n",
    "ax.grid(False)\n"
   ]
  },
  {
   "cell_type": "code",
   "execution_count": 239,
   "metadata": {},
   "outputs": [],
   "source": [
    "fig.savefig(\"variance.png\")"
   ]
  },
  {
   "cell_type": "code",
   "execution_count": 6,
   "metadata": {},
   "outputs": [
    {
     "data": {
      "text/plain": [
       "<matplotlib.axes._subplots.AxesSubplot at 0x7f548c6c1390>"
      ]
     },
     "execution_count": 6,
     "metadata": {},
     "output_type": "execute_result"
    },
    {
     "data": {
      "image/png": "[encoded data removed]",
      "text/plain": [
       "<Figure size 864x576 with 1 Axes>"
      ]
     },
     "metadata": {
      "needs_background": "light"
     },
     "output_type": "display_data"
    }
   ],
   "source": [
    "size = (12, 8)\n",
    "fig, ax = pyplot.subplots(figsize=size)\n",
    "x=list(variance_df.sentimentVariance)\n",
    "sns.distplot(x)"
   ]
  },
  {
   "cell_type": "markdown",
   "metadata": {},
   "source": [
    "## Selecting controversial articles"
   ]
  },
  {
   "cell_type": "code",
   "execution_count": 48,
   "metadata": {},
   "outputs": [
    {
     "name": "stdout",
     "output_type": "stream",
     "text": [
      "0.014448804319950909\n",
      "0.5534387918441649\n"
     ]
    }
   ],
   "source": [
    "q1, q2, q3= np.percentile(list(variance_df.sentimentVariance),[25,50,75])\n",
    "iqr = q3 - q1\n",
    "lower_bound = q1 -(1.5 * iqr) \n",
    "upper_bound = q2 +(1.5 * iqr) \n",
    "print(lower_bound)\n",
    "print(upper_bound)                      "
   ]
  },
  {
   "cell_type": "code",
   "execution_count": 49,
   "metadata": {},
   "outputs": [
    {
     "data": {
      "text/html": [
       "<div>\n",
       "<style scoped>\n",
       "    .dataframe tbody tr th:only-of-type {\n",
       "        vertical-align: middle;\n",
       "    }\n",
       "\n",
       "    .dataframe tbody tr th {\n",
       "        vertical-align: top;\n",
       "    }\n",
       "\n",
       "    .dataframe thead th {\n",
       "        text-align: right;\n",
       "    }\n",
       "</style>\n",
       "<table border=\"1\" class=\"dataframe\">\n",
       "  <thead>\n",
       "    <tr style=\"text-align: right;\">\n",
       "      <th></th>\n",
       "      <th>articleID</th>\n",
       "      <th>sentimentVariance</th>\n",
       "    </tr>\n",
       "  </thead>\n",
       "  <tbody>\n",
       "    <tr>\n",
       "      <th>153</th>\n",
       "      <td>5aafa21247de81a901212761</td>\n",
       "      <td>0.650417</td>\n",
       "    </tr>\n",
       "    <tr>\n",
       "      <th>190</th>\n",
       "      <td>5ab0b17447de81a901213053</td>\n",
       "      <td>0.596350</td>\n",
       "    </tr>\n",
       "    <tr>\n",
       "      <th>444</th>\n",
       "      <td>5ab8a88447de81a90121725f</td>\n",
       "      <td>0.682854</td>\n",
       "    </tr>\n",
       "    <tr>\n",
       "      <th>467</th>\n",
       "      <td>5ab90e4d47de81a901217568</td>\n",
       "      <td>0.649158</td>\n",
       "    </tr>\n",
       "    <tr>\n",
       "      <th>497</th>\n",
       "      <td>5ab9fa0547de81a901217bf5</td>\n",
       "      <td>0.557229</td>\n",
       "    </tr>\n",
       "  </tbody>\n",
       "</table>\n",
       "</div>"
      ],
      "text/plain": [
       "                    articleID  sentimentVariance\n",
       "153  5aafa21247de81a901212761           0.650417\n",
       "190  5ab0b17447de81a901213053           0.596350\n",
       "444  5ab8a88447de81a90121725f           0.682854\n",
       "467  5ab90e4d47de81a901217568           0.649158\n",
       "497  5ab9fa0547de81a901217bf5           0.557229"
      ]
     },
     "execution_count": 49,
     "metadata": {},
     "output_type": "execute_result"
    }
   ],
   "source": [
    "# extracting the right bound outliers as the controversial articles\n",
    "right_outliers =variance_df[variance_df['sentimentVariance'] >  upper_bound]\n",
    "right_outliers[:5]"
   ]
  },
  {
   "cell_type": "code",
   "execution_count": 50,
   "metadata": {},
   "outputs": [
    {
     "data": {
      "text/plain": [
       "95"
      ]
     },
     "execution_count": 50,
     "metadata": {},
     "output_type": "execute_result"
    }
   ],
   "source": [
    "len(right_outliers)"
   ]
  },
  {
   "cell_type": "code",
   "execution_count": 51,
   "metadata": {},
   "outputs": [],
   "source": [
    "with open('controversial.pkl', 'wb') as output_file:\n",
    "    pickle.dump(right_outliers, output_file)"
   ]
  },
  {
   "cell_type": "code",
   "execution_count": 58,
   "metadata": {},
   "outputs": [],
   "source": [
    "articles = pd.read_pickle(\"./articles.pkl\")"
   ]
  },
  {
   "cell_type": "code",
   "execution_count": 104,
   "metadata": {},
   "outputs": [],
   "source": [
    "articles['articleText'] = articles['articleText'].apply(lambda x: re.sub('[0-9]+', '', x))"
   ]
  },
  {
   "cell_type": "code",
   "execution_count": 105,
   "metadata": {},
   "outputs": [],
   "source": [
    "# creating list of article text from controversial articles\n",
    "contro_articles = right_outliers.articleID\n",
    "contro_text = [articles.loc[articles['articleID'] == x].articleText for x in contro_articles]"
   ]
  },
  {
   "cell_type": "markdown",
   "metadata": {},
   "source": [
    "## LDA"
   ]
  },
  {
   "cell_type": "code",
   "execution_count": null,
   "metadata": {
    "scrolled": false
   },
   "outputs": [],
   "source": [
    "words = nltk.corpus.stopwords.words('english')\n",
    "add = ['articletext','dtype','series','sh','object','articletext dtype','dtype object','subscribe','article','nan','name','image','could','story']\n",
    "for word in add:\n",
    "    words.append(word)\n",
    "docs = contro_text\n",
    "docs = [str(i) for i in docs]\n",
    "count_vectorizer = CountVectorizer(ngram_range=(1, 2),  \n",
    "                                   stop_words=words, token_pattern=\"\\\\b[a-z][a-z]+\\\\b\")\n",
    "count_vectorizer.fit(docs)\n",
    "doc_word = count_vectorizer.transform(docs).transpose()\n",
    "corpus = matutils.Sparse2Corpus(doc_word)\n",
    "id2word = dict((v, k) for k, v in count_vectorizer.vocabulary_.items())\n",
    "lda = models.LdaModel(corpus=corpus, num_topics=3, id2word=id2word, passes=10)\n",
    "lda.print_topics()"
   ]
  },
  {
   "cell_type": "markdown",
   "metadata": {},
   "source": [
    "## NMF"
   ]
  },
  {
   "cell_type": "code",
   "execution_count": 212,
   "metadata": {},
   "outputs": [
    {
     "name": "stdout",
     "output_type": "stream",
     "text": [
      "\n",
      "Topic  0\n",
      "said, one, would, people, also, like, new, many, black, civil\n",
      "\n",
      "Topic  1\n",
      "refugee, crisis, united, war, world, history, today, help, people, time\n",
      "\n",
      "Topic  2\n",
      "year, president, trump, first, office, think, new, policy, times, york\n"
     ]
    }
   ],
   "source": [
    "vectorizer = CountVectorizer(stop_words = words)\n",
    "doc_word = vectorizer.fit_transform(docs)\n",
    "nmf_model = NMF(3)\n",
    "doc_topic = nmf_model.fit_transform(doc_word)\n",
    "topic_word = pd.DataFrame(nmf_model.components_.round(3),\n",
    "             index = ['topic1','topic2','topic3'],\n",
    "             columns = vectorizer.get_feature_names())\n",
    "\n",
    "def display_topics(model, feature_names, no_top_words, topic_names=None):\n",
    "    for ix, topic in enumerate(model.components_):\n",
    "        if not topic_names or not topic_names[ix]:\n",
    "            print(\"\\nTopic \", ix)\n",
    "        else:\n",
    "            print(\"\\nTopic: '\",topic_names[ix],\"'\")\n",
    "        print(\", \".join([feature_names[i]\n",
    "                        for i in topic.argsort()[:-no_top_words - 1:-1]]))\n",
    "        \n",
    "display_topics(nmf_model, vectorizer.get_feature_names(), 10)"
   ]
  },
  {
   "cell_type": "markdown",
   "metadata": {},
   "source": [
    "## LSA"
   ]
  },
  {
   "cell_type": "code",
   "execution_count": 213,
   "metadata": {},
   "outputs": [
    {
     "name": "stdout",
     "output_type": "stream",
     "text": [
      "\n",
      "Topic  0\n",
      "said, people, refugee, crisis, united, history, one, world, would, new\n",
      "\n",
      "Topic  1\n",
      "crisis, refugee, war, world, united, today, help, history, sharps, text\n",
      "\n",
      "Topic  2\n",
      "year, president, trump, first, office, think, policy, presidency, analysis, new\n"
     ]
    }
   ],
   "source": [
    "lsa = TruncatedSVD(3)\n",
    "doc_topic = lsa.fit_transform(doc_word)\n",
    "topic_word = pd.DataFrame(lsa.components_.round(3),\n",
    "             index = ['topic1','topic2','topic3'],\n",
    "             columns = vectorizer.get_feature_names())\n",
    "display_topics(lsa, vectorizer.get_feature_names(), 10)"
   ]
  },
  {
   "cell_type": "code",
   "execution_count": null,
   "metadata": {},
   "outputs": [],
   "source": []
  }
 ],
 "metadata": {
  "kernelspec": {
   "display_name": "Python 3",
   "language": "python",
   "name": "python3"
  },
  "language_info": {
   "codemirror_mode": {
    "name": "ipython",
    "version": 3
   },
   "file_extension": ".py",
   "mimetype": "text/x-python",
   "name": "python",
   "nbconvert_exporter": "python",
   "pygments_lexer": "ipython3",
   "version": "3.6.4"
  }
 },
 "nbformat": 4,
 "nbformat_minor": 2
}
